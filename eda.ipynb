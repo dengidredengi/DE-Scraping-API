{
 "cells": [
  {
   "cell_type": "markdown",
   "id": "fd95c83d",
   "metadata": {},
   "source": [
    "<span style=\"color:yellow\"> Бизнес-задача: \n",
    "- Предложить стратегию инвестиций в разработку игр, выявив связь между характеристиками игр (жанр, средний рейтинг, платформа) и их коммерческим успехом (продажи, выручка). </span>"
   ]
  },
  {
   "cell_type": "code",
   "execution_count": 4,
   "metadata": {},
   "outputs": [],
   "source": [
    "import pandas as pd"
   ]
  },
  {
   "cell_type": "code",
   "execution_count": 11,
   "metadata": {},
   "outputs": [
    {
     "data": {
      "text/html": [
       "<div>\n",
       "<style scoped>\n",
       "    .dataframe tbody tr th:only-of-type {\n",
       "        vertical-align: middle;\n",
       "    }\n",
       "\n",
       "    .dataframe tbody tr th {\n",
       "        vertical-align: top;\n",
       "    }\n",
       "\n",
       "    .dataframe thead th {\n",
       "        text-align: right;\n",
       "    }\n",
       "</style>\n",
       "<table border=\"1\" class=\"dataframe\">\n",
       "  <thead>\n",
       "    <tr style=\"text-align: right;\">\n",
       "      <th></th>\n",
       "      <th>Unnamed: 0</th>\n",
       "      <th>name</th>\n",
       "      <th>released</th>\n",
       "      <th>rating</th>\n",
       "      <th>esrb_rating</th>\n",
       "      <th>genres</th>\n",
       "      <th>platforms</th>\n",
       "    </tr>\n",
       "  </thead>\n",
       "  <tbody>\n",
       "    <tr>\n",
       "      <th>0</th>\n",
       "      <td>0</td>\n",
       "      <td>Grand Theft Auto V</td>\n",
       "      <td>2013-09-17</td>\n",
       "      <td>4.47</td>\n",
       "      <td>{'id': 4, 'name': 'Mature', 'slug': 'mature'}</td>\n",
       "      <td>Action</td>\n",
       "      <td>PC, PlayStation 5, Xbox Series S/X, PlayStatio...</td>\n",
       "    </tr>\n",
       "    <tr>\n",
       "      <th>1</th>\n",
       "      <td>1</td>\n",
       "      <td>The Witcher 3: Wild Hunt</td>\n",
       "      <td>2015-05-18</td>\n",
       "      <td>4.64</td>\n",
       "      <td>{'id': 4, 'name': 'Mature', 'slug': 'mature'}</td>\n",
       "      <td>Action, RPG</td>\n",
       "      <td>PlayStation 5, Xbox Series S/X, macOS, PlaySta...</td>\n",
       "    </tr>\n",
       "    <tr>\n",
       "      <th>2</th>\n",
       "      <td>2</td>\n",
       "      <td>Portal 2</td>\n",
       "      <td>2011-04-18</td>\n",
       "      <td>4.58</td>\n",
       "      <td>{'id': 2, 'name': 'Everyone 10+', 'slug': 'eve...</td>\n",
       "      <td>Shooter, Puzzle</td>\n",
       "      <td>PlayStation 3, PC, Xbox 360, Linux, macOS, Xbo...</td>\n",
       "    </tr>\n",
       "    <tr>\n",
       "      <th>3</th>\n",
       "      <td>3</td>\n",
       "      <td>Counter-Strike: Global Offensive</td>\n",
       "      <td>2012-08-21</td>\n",
       "      <td>3.57</td>\n",
       "      <td>{'id': 4, 'name': 'Mature', 'slug': 'mature'}</td>\n",
       "      <td>Shooter</td>\n",
       "      <td>PC, Linux, Xbox 360, PlayStation 3</td>\n",
       "    </tr>\n",
       "    <tr>\n",
       "      <th>4</th>\n",
       "      <td>4</td>\n",
       "      <td>Tomb Raider (2013)</td>\n",
       "      <td>2013-03-05</td>\n",
       "      <td>4.06</td>\n",
       "      <td>{'id': 4, 'name': 'Mature', 'slug': 'mature'}</td>\n",
       "      <td>Action</td>\n",
       "      <td>PlayStation 3, Xbox 360, macOS, PC, Xbox One, ...</td>\n",
       "    </tr>\n",
       "  </tbody>\n",
       "</table>\n",
       "</div>"
      ],
      "text/plain": [
       "   Unnamed: 0                              name    released  rating  \\\n",
       "0           0                Grand Theft Auto V  2013-09-17    4.47   \n",
       "1           1          The Witcher 3: Wild Hunt  2015-05-18    4.64   \n",
       "2           2                          Portal 2  2011-04-18    4.58   \n",
       "3           3  Counter-Strike: Global Offensive  2012-08-21    3.57   \n",
       "4           4                Tomb Raider (2013)  2013-03-05    4.06   \n",
       "\n",
       "                                         esrb_rating           genres  \\\n",
       "0      {'id': 4, 'name': 'Mature', 'slug': 'mature'}           Action   \n",
       "1      {'id': 4, 'name': 'Mature', 'slug': 'mature'}      Action, RPG   \n",
       "2  {'id': 2, 'name': 'Everyone 10+', 'slug': 'eve...  Shooter, Puzzle   \n",
       "3      {'id': 4, 'name': 'Mature', 'slug': 'mature'}          Shooter   \n",
       "4      {'id': 4, 'name': 'Mature', 'slug': 'mature'}           Action   \n",
       "\n",
       "                                           platforms  \n",
       "0  PC, PlayStation 5, Xbox Series S/X, PlayStatio...  \n",
       "1  PlayStation 5, Xbox Series S/X, macOS, PlaySta...  \n",
       "2  PlayStation 3, PC, Xbox 360, Linux, macOS, Xbo...  \n",
       "3                 PC, Linux, Xbox 360, PlayStation 3  \n",
       "4  PlayStation 3, Xbox 360, macOS, PC, Xbox One, ...  "
      ]
     },
     "execution_count": 11,
     "metadata": {},
     "output_type": "execute_result"
    }
   ],
   "source": [
    "games_rate = pd.read_csv('games.csv')\n",
    "games_rate.head()\n",
    "# games_rate['esrb_rating'] = games_rate['esrb_rating'].get('name')\n",
    "# games_rate\n"
   ]
  }
 ],
 "metadata": {
  "kernelspec": {
   "display_name": "base",
   "language": "python",
   "name": "python3"
  },
  "language_info": {
   "codemirror_mode": {
    "name": "ipython",
    "version": 3
   },
   "file_extension": ".py",
   "mimetype": "text/x-python",
   "name": "python",
   "nbconvert_exporter": "python",
   "pygments_lexer": "ipython3",
   "version": "3.12.4"
  }
 },
 "nbformat": 4,
 "nbformat_minor": 5
}
